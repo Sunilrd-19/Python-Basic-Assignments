{
 "cells": [
  {
   "cell_type": "markdown",
   "id": "61732566",
   "metadata": {},
   "source": [
    "1. What are escape characters, and how do you use them?"
   ]
  },
  {
   "cell_type": "markdown",
   "id": "9747a26a",
   "metadata": {},
   "source": [
    "Ans - ' \\t ' for tab, ' \\n ' for new line, ' \\r ' for carriage return."
   ]
  },
  {
   "cell_type": "markdown",
   "id": "fda30475",
   "metadata": {},
   "source": [
    "2. What do the escape characters n and t stand for?"
   ]
  },
  {
   "cell_type": "markdown",
   "id": "00aa624a",
   "metadata": {},
   "source": [
    "Ans - n stands for new line and t stands for tab"
   ]
  },
  {
   "cell_type": "markdown",
   "id": "4c629d4b",
   "metadata": {},
   "source": [
    "3. What is the way to include backslash characters in a string?"
   ]
  },
  {
   "cell_type": "markdown",
   "id": "fa246c4c",
   "metadata": {},
   "source": [
    "Ans - We need to use two blackslash(\\\\)"
   ]
  },
  {
   "cell_type": "markdown",
   "id": "623faf09",
   "metadata": {},
   "source": [
    "4. The string &quot;Howl&#39;s Moving Castle&quot; is a correct value. Why isn&#39;t the single quote character in the\n",
    "word Howl&#39;s not escaped a problem?"
   ]
  },
  {
   "cell_type": "markdown",
   "id": "f585e6f6",
   "metadata": {},
   "source": [
    "Ans - Here double quotes have been used to mark begining and ending of the string."
   ]
  },
  {
   "cell_type": "markdown",
   "id": "7a0268d9",
   "metadata": {},
   "source": [
    "5. How do you write a string of newlines if you don&#39;t want to use the n character?"
   ]
  },
  {
   "cell_type": "markdown",
   "id": "1b5ea3c6",
   "metadata": {},
   "source": [
    "Ans - We have to write the string in triple quotes."
   ]
  },
  {
   "cell_type": "markdown",
   "id": "738b177f",
   "metadata": {},
   "source": [
    "6. What are the values of the given expressions?"
   ]
  },
  {
   "cell_type": "markdown",
   "id": "dfcd0bd1",
   "metadata": {},
   "source": [
    "&#39;Hello, world!&#39;[1] \n",
    "\n",
    "Ans - e"
   ]
  },
  {
   "cell_type": "markdown",
   "id": "f9ed1cde",
   "metadata": {},
   "source": [
    "&#39;Hello, world!&#39;[0:5]\n",
    "\n",
    "Ans - 'Hello'"
   ]
  },
  {
   "cell_type": "markdown",
   "id": "ab44da1e",
   "metadata": {},
   "source": [
    "&#39;Hello, world!&#39;[:5]"
   ]
  },
  {
   "cell_type": "markdown",
   "id": "623a1e29",
   "metadata": {},
   "source": [
    "'Hello, world!'[:5] \n",
    "\n",
    "Ans - 'Hello"
   ]
  },
  {
   "cell_type": "markdown",
   "id": "79357763",
   "metadata": {},
   "source": [
    "&#39;Hello, world!&#39;[3:]\n",
    "\n",
    "Ans - 'lo, world!'"
   ]
  },
  {
   "cell_type": "markdown",
   "id": "30bad76e",
   "metadata": {},
   "source": [
    "7. What are the values of the following expressions?"
   ]
  },
  {
   "cell_type": "markdown",
   "id": "b44889fe",
   "metadata": {},
   "source": [
    "&#39;Hello&#39;.upper()\n",
    "\n",
    "Ans - 'HELLO"
   ]
  },
  {
   "cell_type": "markdown",
   "id": "0e605303",
   "metadata": {},
   "source": [
    "&#39;Hello&#39;.upper().isupper()\n",
    "\n",
    "Ans - True"
   ]
  },
  {
   "cell_type": "markdown",
   "id": "b6ad6a10",
   "metadata": {},
   "source": [
    "&#39;Hello&#39;.upper().lower()\n",
    "\n",
    "Ans - 'hello"
   ]
  },
  {
   "cell_type": "markdown",
   "id": "21b65208",
   "metadata": {},
   "source": [
    "8. What are the values of the following expressions?"
   ]
  },
  {
   "cell_type": "markdown",
   "id": "7abc0ee6",
   "metadata": {},
   "source": [
    "&#39;Remember, remember, the fifth of July.&#39;.split()\n",
    "\n",
    "Ans - ['Remember,', 'remember,', 'the', 'fifth', 'of', 'July.']"
   ]
  },
  {
   "cell_type": "markdown",
   "id": "5532e6a7",
   "metadata": {},
   "source": [
    "&#39;-&#39;.join(&#39;There can only one.&#39;.split())\n",
    "\n",
    "Ans - 'There-can-only-one.'"
   ]
  },
  {
   "cell_type": "markdown",
   "id": "dd9dfdef",
   "metadata": {},
   "source": [
    "9. What are the methods for right-justifying, left-justifying, and centering a string?"
   ]
  },
  {
   "cell_type": "markdown",
   "id": "669d69b8",
   "metadata": {},
   "source": [
    "Ans - rjust() for right justifying\n",
    "\n",
    "ljust() for left justyfying\n",
    "\n",
    "center() for centering"
   ]
  },
  {
   "cell_type": "markdown",
   "id": "6f11c9cf",
   "metadata": {},
   "source": [
    "10. What is the best way to remove whitespace characters from the start or end?"
   ]
  },
  {
   "cell_type": "markdown",
   "id": "c5d6322a",
   "metadata": {},
   "source": [
    "We can use strip() for remove whitespaces character from the start or end "
   ]
  },
  {
   "cell_type": "code",
   "execution_count": null,
   "id": "a7dd17be",
   "metadata": {},
   "outputs": [],
   "source": []
  }
 ],
 "metadata": {
  "kernelspec": {
   "display_name": "Python 3",
   "language": "python",
   "name": "python3"
  },
  "language_info": {
   "codemirror_mode": {
    "name": "ipython",
    "version": 3
   },
   "file_extension": ".py",
   "mimetype": "text/x-python",
   "name": "python",
   "nbconvert_exporter": "python",
   "pygments_lexer": "ipython3",
   "version": "3.8.8"
  }
 },
 "nbformat": 4,
 "nbformat_minor": 5
}
