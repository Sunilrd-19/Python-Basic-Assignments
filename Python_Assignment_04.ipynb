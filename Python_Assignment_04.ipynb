{
 "cells": [
  {
   "cell_type": "markdown",
   "id": "60821ee8",
   "metadata": {},
   "source": [
    "1. What exactly is []?"
   ]
  },
  {
   "cell_type": "markdown",
   "id": "552d2dc4",
   "metadata": {},
   "source": [
    "Ans - [] is empty list"
   ]
  },
  {
   "cell_type": "markdown",
   "id": "f6aaab17",
   "metadata": {},
   "source": [
    "2. In a list of values stored in a variable called spam, how would you assign the value &#39;hello&#39; as the\n",
    "third value? (Assume [2, 4, 6, 8, 10] are in spam.)"
   ]
  },
  {
   "cell_type": "code",
   "execution_count": 9,
   "id": "73d61e04",
   "metadata": {},
   "outputs": [],
   "source": [
    "spam = [2,4,6,8,10]\n",
    "spam[2] = 'hello'"
   ]
  },
  {
   "cell_type": "code",
   "execution_count": 10,
   "id": "82aa0a8f",
   "metadata": {},
   "outputs": [
    {
     "data": {
      "text/plain": [
       "[2, 4, 'hello', 8, 10]"
      ]
     },
     "execution_count": 10,
     "metadata": {},
     "output_type": "execute_result"
    }
   ],
   "source": [
    "spam"
   ]
  },
  {
   "cell_type": "code",
   "execution_count": null,
   "id": "1e47429c",
   "metadata": {},
   "outputs": [],
   "source": [
    "Or spam.insert(2, 'hello')"
   ]
  },
  {
   "cell_type": "markdown",
   "id": "c9b76bc5",
   "metadata": {},
   "source": [
    "#### Let's pretend the spam includes the list ['a', 'b', 'c', 'd'] for the next three queries."
   ]
  },
  {
   "cell_type": "markdown",
   "id": "8712e861",
   "metadata": {},
   "source": [
    "3. What is the value of spam[int(int('3'*2) / 11)]?"
   ]
  },
  {
   "cell_type": "markdown",
   "id": "593e8c6c",
   "metadata": {},
   "source": [
    "Ans = 'd'"
   ]
  },
  {
   "cell_type": "markdown",
   "id": "3d1f3344",
   "metadata": {},
   "source": [
    "4. What is the value of spam[-1]?"
   ]
  },
  {
   "cell_type": "markdown",
   "id": "7ee5077f",
   "metadata": {},
   "source": [
    "Ans = 'd'"
   ]
  },
  {
   "cell_type": "markdown",
   "id": "20ff4f10",
   "metadata": {},
   "source": [
    "5. What is the value of spam[:2]?"
   ]
  },
  {
   "cell_type": "markdown",
   "id": "5edc2a59",
   "metadata": {},
   "source": [
    "Ans - ['a','b']"
   ]
  },
  {
   "cell_type": "markdown",
   "id": "c7699b2b",
   "metadata": {},
   "source": [
    "### Let&#39;s pretend bacon has the list [3.14, &#39;cat,&#39; 11, &#39;cat,&#39; True] for the next three questions."
   ]
  },
  {
   "cell_type": "markdown",
   "id": "9fe7d81c",
   "metadata": {},
   "source": [
    "6. What is the value of bacon.index(&#39;cat&#39;)?"
   ]
  },
  {
   "cell_type": "markdown",
   "id": "9b6b7d3d",
   "metadata": {},
   "source": [
    "Ans- 1"
   ]
  },
  {
   "cell_type": "markdown",
   "id": "f1df0996",
   "metadata": {},
   "source": [
    "7. How does bacon.append(99) change the look of the list value in bacon?"
   ]
  },
  {
   "cell_type": "markdown",
   "id": "93adc0ca",
   "metadata": {},
   "source": [
    "Ans - [3.14, 'cat', 11, 'cat', True, 99]"
   ]
  },
  {
   "cell_type": "markdown",
   "id": "b43d731f",
   "metadata": {},
   "source": [
    "8. How does bacon.remove(&#39;cat&#39;) change the look of the list in bacon?"
   ]
  },
  {
   "cell_type": "markdown",
   "id": "adc0e524",
   "metadata": {},
   "source": [
    "Ans - [3.14, 11, 'cat', True, 99]"
   ]
  },
  {
   "cell_type": "markdown",
   "id": "bb898a88",
   "metadata": {},
   "source": [
    "9. What are the list concatenation and list replication operators?"
   ]
  },
  {
   "cell_type": "markdown",
   "id": "dd9c8dff",
   "metadata": {},
   "source": [
    "Ans - The operator for list concatenation is +, while the operator for replication is *"
   ]
  },
  {
   "cell_type": "markdown",
   "id": "f65c2fd8",
   "metadata": {},
   "source": [
    "10. What is difference between the list methods append() and insert()?"
   ]
  },
  {
   "cell_type": "markdown",
   "id": "a231f6c0",
   "metadata": {},
   "source": [
    "Ans - Insert function allows us to add a specific element at a specified index of the list unlike append() where we can add the element only at end of the list."
   ]
  },
  {
   "cell_type": "markdown",
   "id": "dd48be4e",
   "metadata": {},
   "source": [
    "11. What are the two methods for removing items from a list?"
   ]
  },
  {
   "cell_type": "markdown",
   "id": "59fb2d12",
   "metadata": {},
   "source": [
    "Ans - remove() and pop()"
   ]
  },
  {
   "cell_type": "markdown",
   "id": "a636b89f",
   "metadata": {},
   "source": [
    "12. Describe how list values and string values are identical."
   ]
  },
  {
   "cell_type": "markdown",
   "id": "0428de78",
   "metadata": {},
   "source": [
    "Ans - Both are sequences"
   ]
  },
  {
   "cell_type": "markdown",
   "id": "2c5977ad",
   "metadata": {},
   "source": [
    "13. What&#39;s the difference between tuples and lists?"
   ]
  },
  {
   "cell_type": "markdown",
   "id": "c1043212",
   "metadata": {},
   "source": [
    "Ans - Tuple is immutable object and lists are mutable. Tuples are more memory suffiecient than list."
   ]
  },
  {
   "cell_type": "markdown",
   "id": "7611a619",
   "metadata": {},
   "source": [
    "14. How do you type a tuple value that only contains the integer 42?"
   ]
  },
  {
   "cell_type": "markdown",
   "id": "fa271ac3",
   "metadata": {},
   "source": [
    "Ans - t = (42,)"
   ]
  },
  {
   "cell_type": "markdown",
   "id": "75257c92",
   "metadata": {},
   "source": [
    "15. How do you get a list value&#39;s tuple form? How do you get a tuple value&#39;s list form?"
   ]
  },
  {
   "cell_type": "markdown",
   "id": "7dab360c",
   "metadata": {},
   "source": [
    "Ans - tuple(list_name)\n",
    "\n",
    "list(tuple_name)"
   ]
  },
  {
   "cell_type": "markdown",
   "id": "9f3b665e",
   "metadata": {},
   "source": [
    "16. Variables that &quot;contain&quot; list values are not necessarily lists themselves. Instead, what do they\n",
    "contain?"
   ]
  },
  {
   "cell_type": "markdown",
   "id": "2234b8f1",
   "metadata": {},
   "source": [
    "Ans- They contain reference to the list values."
   ]
  },
  {
   "cell_type": "markdown",
   "id": "cbad3764",
   "metadata": {},
   "source": [
    "17. How do you distinguish between copy.copy() and copy.deepcopy()?"
   ]
  },
  {
   "cell_type": "markdown",
   "id": "bcd1532f",
   "metadata": {},
   "source": [
    "Ans - copy.copy() create reference to original object. If you change copied object - you change the original object. \n",
    "\n",
    "copy.deepcopy() creates new object and does real copying of original object to new one. Changing new deepcopied object doesn't affect original object."
   ]
  },
  {
   "cell_type": "code",
   "execution_count": null,
   "id": "239133cf",
   "metadata": {},
   "outputs": [],
   "source": []
  }
 ],
 "metadata": {
  "kernelspec": {
   "display_name": "Python 3",
   "language": "python",
   "name": "python3"
  },
  "language_info": {
   "codemirror_mode": {
    "name": "ipython",
    "version": 3
   },
   "file_extension": ".py",
   "mimetype": "text/x-python",
   "name": "python",
   "nbconvert_exporter": "python",
   "pygments_lexer": "ipython3",
   "version": "3.8.8"
  }
 },
 "nbformat": 4,
 "nbformat_minor": 5
}
