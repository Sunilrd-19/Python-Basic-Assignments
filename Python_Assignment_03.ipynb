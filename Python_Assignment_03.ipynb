{
 "cells": [
  {
   "cell_type": "markdown",
   "id": "38dda22e",
   "metadata": {},
   "source": [
    "1. Why are functions advantageous to have in your programs?"
   ]
  },
  {
   "cell_type": "markdown",
   "id": "6ad87073",
   "metadata": {},
   "source": [
    "Ans - Functions reduce the need for duplicate code. This makes programs shorter, easier to read, and easier to update."
   ]
  },
  {
   "cell_type": "markdown",
   "id": "64983cc3",
   "metadata": {},
   "source": [
    "2. When does the code in a function run: when it's specified or when it's called?"
   ]
  },
  {
   "cell_type": "markdown",
   "id": "8e9c259e",
   "metadata": {},
   "source": [
    "Ans - When it is called."
   ]
  },
  {
   "cell_type": "markdown",
   "id": "30a3286b",
   "metadata": {},
   "source": [
    "3. What statement creates a function?"
   ]
  },
  {
   "cell_type": "markdown",
   "id": "eff3769d",
   "metadata": {},
   "source": [
    "def"
   ]
  },
  {
   "cell_type": "markdown",
   "id": "f020cedc",
   "metadata": {},
   "source": [
    "4. What is the difference between a function and a function call?"
   ]
  },
  {
   "cell_type": "markdown",
   "id": "869fbbb2",
   "metadata": {},
   "source": [
    "Ans - A function is a block of code that does a particular operation and returns a result. It usually accepts inputs as parameters and returns a result. \n",
    "\n",
    "A function call means invoking or calling that function. Unless a function is called there is no use of that function.\n"
   ]
  },
  {
   "cell_type": "markdown",
   "id": "a3d51984",
   "metadata": {},
   "source": [
    "5.  How many global scopes are there in a Python program? How many local scopes?"
   ]
  },
  {
   "cell_type": "markdown",
   "id": "df42871f",
   "metadata": {},
   "source": [
    "Ans - Only one global scope in python and local scope is created whenever function is called."
   ]
  },
  {
   "cell_type": "markdown",
   "id": "251091b1",
   "metadata": {},
   "source": [
    "6. What happens to variables in a local scope when the function call returns?"
   ]
  },
  {
   "cell_type": "markdown",
   "id": "3fcab298",
   "metadata": {},
   "source": [
    "Ans - The local varibles are destroyed."
   ]
  },
  {
   "cell_type": "markdown",
   "id": "7a47e1dd",
   "metadata": {},
   "source": [
    "7. What is the concept of a return value? Is it possible to have a return value in an expression?"
   ]
  },
  {
   "cell_type": "markdown",
   "id": "311e127a",
   "metadata": {},
   "source": [
    "Ans - A return is a value that a function returns to the calling script or function when it completes its task. Yes, it is possible to have a return value in an expression"
   ]
  },
  {
   "cell_type": "markdown",
   "id": "b929611a",
   "metadata": {},
   "source": [
    "8. If a function does not have a return statement, what is the return value of a call to that function?"
   ]
  },
  {
   "cell_type": "markdown",
   "id": "522bc867",
   "metadata": {},
   "source": [
    "Ans - Nothing will be returned. The return value of the called function is undefined"
   ]
  },
  {
   "cell_type": "markdown",
   "id": "428f69ec",
   "metadata": {},
   "source": [
    "9. How do you make a function variable refer to the global variable?"
   ]
  },
  {
   "cell_type": "markdown",
   "id": "94e1ac17",
   "metadata": {},
   "source": [
    "Ans - Using 'global' keyword before the variable name at start of the function"
   ]
  },
  {
   "cell_type": "markdown",
   "id": "b9214d14",
   "metadata": {},
   "source": [
    "10. What is the data type of None?"
   ]
  },
  {
   "cell_type": "markdown",
   "id": "8dc21f7b",
   "metadata": {},
   "source": [
    "Ans - None Type"
   ]
  },
  {
   "cell_type": "markdown",
   "id": "4c0ad36e",
   "metadata": {},
   "source": [
    "11. What does the sentence import areallyourpetsnamederic do?"
   ]
  },
  {
   "cell_type": "markdown",
   "id": "de899287",
   "metadata": {},
   "source": [
    "Ans - That import statement imports a module named areallyourpetsnamederic."
   ]
  },
  {
   "cell_type": "markdown",
   "id": "4b13e728",
   "metadata": {},
   "source": [
    "12. If you had a bacon() feature in a spam module, what would you call it after importing spam?"
   ]
  },
  {
   "cell_type": "markdown",
   "id": "c7645124",
   "metadata": {},
   "source": [
    "spam.bacon()"
   ]
  },
  {
   "cell_type": "markdown",
   "id": "d54afe56",
   "metadata": {},
   "source": [
    "13. What can you do to save a programme from crashing if it encounters an error?"
   ]
  },
  {
   "cell_type": "markdown",
   "id": "fe5db1cc",
   "metadata": {},
   "source": [
    "We should use 'try' and 'exception' handling"
   ]
  },
  {
   "cell_type": "markdown",
   "id": "b36b0ae1",
   "metadata": {},
   "source": [
    "14. What is the purpose of the try clause? What is the purpose of the except clause?"
   ]
  },
  {
   "cell_type": "markdown",
   "id": "8170d2b7",
   "metadata": {},
   "source": [
    "The try block is used to check some code for errors i.e the code inside the try block will execute when there is no error in the program. Whereas the code inside the except block will execute whenever the program encounters some error in the preceding try block"
   ]
  },
  {
   "cell_type": "code",
   "execution_count": null,
   "id": "a71dc8bd",
   "metadata": {},
   "outputs": [],
   "source": []
  }
 ],
 "metadata": {
  "kernelspec": {
   "display_name": "Python 3",
   "language": "python",
   "name": "python3"
  },
  "language_info": {
   "codemirror_mode": {
    "name": "ipython",
    "version": 3
   },
   "file_extension": ".py",
   "mimetype": "text/x-python",
   "name": "python",
   "nbconvert_exporter": "python",
   "pygments_lexer": "ipython3",
   "version": "3.8.8"
  }
 },
 "nbformat": 4,
 "nbformat_minor": 5
}
