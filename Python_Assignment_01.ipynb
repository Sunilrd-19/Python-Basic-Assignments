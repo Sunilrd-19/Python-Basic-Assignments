{
 "cells": [
  {
   "cell_type": "markdown",
   "id": "83ea71d4",
   "metadata": {},
   "source": [
    "1. In the below elements which of them are values or an expression? eg:- values can be integer or string and expressions will be mathematical operators."
   ]
  },
  {
   "cell_type": "markdown",
   "id": "edd792b9",
   "metadata": {},
   "source": [
    "Ans :- Values = -87.8, 6,'hello'\n",
    "expression = = *, -, /, +"
   ]
  },
  {
   "cell_type": "markdown",
   "id": "26ff19ba",
   "metadata": {},
   "source": [
    "2. 2. What is the difference between string and variable?"
   ]
  },
  {
   "cell_type": "markdown",
   "id": "aa148008",
   "metadata": {},
   "source": [
    "Ans :- Variables are symbols that you can use to store data in a program.\n",
    "String is a type of information you would store in a Variable."
   ]
  },
  {
   "cell_type": "markdown",
   "id": "f699f461",
   "metadata": {},
   "source": [
    "3. Describe three different data types."
   ]
  },
  {
   "cell_type": "markdown",
   "id": "d6bd8f43",
   "metadata": {},
   "source": [
    "Ans :- \"Integers\" -It cintains positive or negative whole numbers. \n",
    "\"Float\" - It is a real number with floating point representation. It is specified by a decimal point. \n",
    "\"String\" - A string is a collection of one or more characters put in a single quote, double-quote or triple quote."
   ]
  },
  {
   "cell_type": "markdown",
   "id": "52a1da62",
   "metadata": {},
   "source": [
    "4. What is an expression made up of? What do all expressions do?"
   ]
  },
  {
   "cell_type": "markdown",
   "id": "f7436e32",
   "metadata": {},
   "source": [
    "Ans - An expression is a construct made up of variables, operators, and method invocations, which are constructed according to the syntax of the progrmming language, that evaluates to a single value.Expression returns a value"
   ]
  },
  {
   "cell_type": "markdown",
   "id": "83b308a6",
   "metadata": {},
   "source": [
    "5. This assignment statements, like spam = 10. What is the difference between an expression and a statement?"
   ]
  },
  {
   "cell_type": "markdown",
   "id": "b23b299a",
   "metadata": {},
   "source": [
    "Ans - Expression is made up of values, containers, and mathematical operators (operands) and the statement is just like a command that a python interpreter executes like print."
   ]
  },
  {
   "cell_type": "markdown",
   "id": "d93867f8",
   "metadata": {},
   "source": [
    "6. After running the following code, what does the variable bacon contain?\n",
    "bacon = 22\\\n",
    "bacon + 1\n"
   ]
  },
  {
   "cell_type": "markdown",
   "id": "eb67f1ff",
   "metadata": {},
   "source": [
    "Ans - bacon contains 23"
   ]
  },
  {
   "cell_type": "markdown",
   "id": "475c440e",
   "metadata": {},
   "source": [
    "7. What should the values of the following two terms be?\n",
    "'spam' + 'spamspam'/\n",
    "'spam' * 3\n"
   ]
  },
  {
   "cell_type": "code",
   "execution_count": 3,
   "id": "9fab3b1a",
   "metadata": {},
   "outputs": [
    {
     "data": {
      "text/plain": [
       "'spamspamspam'"
      ]
     },
     "execution_count": 3,
     "metadata": {},
     "output_type": "execute_result"
    }
   ],
   "source": [
    "'spam' + 'spamspam'"
   ]
  },
  {
   "cell_type": "code",
   "execution_count": 4,
   "id": "e70a24fa",
   "metadata": {},
   "outputs": [
    {
     "data": {
      "text/plain": [
       "'spamspamspam'"
      ]
     },
     "execution_count": 4,
     "metadata": {},
     "output_type": "execute_result"
    }
   ],
   "source": [
    "'spam' * 3"
   ]
  },
  {
   "cell_type": "markdown",
   "id": "6beff495",
   "metadata": {},
   "source": [
    "8. Why is eggs a valid variable name while 100 is invalid?"
   ]
  },
  {
   "cell_type": "markdown",
   "id": "d33b33be",
   "metadata": {},
   "source": [
    "Ans - Because eggs is a test and 100 is a number which cannot assign a value"
   ]
  },
  {
   "cell_type": "markdown",
   "id": "4da4ba43",
   "metadata": {},
   "source": [
    "9. What three functions can be used to get the integer, floating-point number, or string version of a value?"
   ]
  },
  {
   "cell_type": "markdown",
   "id": "16a7050a",
   "metadata": {},
   "source": [
    "Ans - 'int' for integers, 'float' for floating point number, 'str' for string"
   ]
  },
  {
   "cell_type": "markdown",
   "id": "4a98d578",
   "metadata": {},
   "source": [
    "10. Why does this expression cause an error? How can you fix it?\n",
    "'I have eaten ' + 99 + ' burritos.'\n"
   ]
  },
  {
   "cell_type": "markdown",
   "id": "7fc24451",
   "metadata": {},
   "source": [
    "Because 'I have eaten ' and ' burritos.' are string and 99 is an integer, string and integer can not be concatenated. It can be fixed this way, 'I have eaten ' + '99' + ' burritos.'"
   ]
  },
  {
   "cell_type": "code",
   "execution_count": null,
   "id": "1821f2b1",
   "metadata": {},
   "outputs": [],
   "source": []
  }
 ],
 "metadata": {
  "kernelspec": {
   "display_name": "Python 3 (ipykernel)",
   "language": "python",
   "name": "python3"
  },
  "language_info": {
   "codemirror_mode": {
    "name": "ipython",
    "version": 3
   },
   "file_extension": ".py",
   "mimetype": "text/x-python",
   "name": "python",
   "nbconvert_exporter": "python",
   "pygments_lexer": "ipython3",
   "version": "3.9.12"
  }
 },
 "nbformat": 4,
 "nbformat_minor": 5
}
