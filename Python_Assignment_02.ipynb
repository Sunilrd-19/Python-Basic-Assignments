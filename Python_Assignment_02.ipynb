{
 "cells": [
  {
   "cell_type": "markdown",
   "id": "9c9bb50b",
   "metadata": {},
   "source": [
    "1.What are the two values of the Boolean data type? How do you write them?"
   ]
  },
  {
   "cell_type": "markdown",
   "id": "7a842cef",
   "metadata": {},
   "source": [
    "Ans - Two values of boolean data types are 1 and 0 and we can write them as True and Flase"
   ]
  },
  {
   "cell_type": "markdown",
   "id": "a248aaad",
   "metadata": {},
   "source": [
    "2. What are the three different types of Boolean operators?"
   ]
  },
  {
   "cell_type": "markdown",
   "id": "d8c23e3e",
   "metadata": {},
   "source": [
    "Ans - AND, OR, NOT"
   ]
  },
  {
   "cell_type": "markdown",
   "id": "5b87ab41",
   "metadata": {},
   "source": [
    "3. Make a list of each Boolean operator&#39;s truth tables (i.e. every possible combination of Boolean\n",
    "values for the operator and what it evaluate )."
   ]
  },
  {
   "cell_type": "markdown",
   "id": "7f1b1e59",
   "metadata": {},
   "source": [
    "Ans- OR(0 or 0 = 0, 0 or 1 = 1, 1 or 0 = 1, 1 or 1 = 1); AND(0 and 0 = 0, 1 and 0 = 0, 1 and 0 = 0, 1 and 1 = 1); NOT(not 1 = False, not 0 = True)"
   ]
  },
  {
   "cell_type": "markdown",
   "id": "8f13d466",
   "metadata": {},
   "source": [
    "4. What are the values of the following expressions?\n",
    "(5 &gt; 4) and (3 == 5)\n",
    "not (5 &gt; 4)\n",
    "(5 &gt; 4) or (3 == 5)\n",
    "not ((5 &gt; 4) or (3 == 5))\n",
    "(True and True) and (True == False)\n",
    "(not False) or (not True)"
   ]
  },
  {
   "cell_type": "markdown",
   "id": "a16a1da6",
   "metadata": {},
   "source": [
    "Ans - (5 > 4) and (3 == 5) - Flase ; not(5>4) - Flase; (5 > 4) or (3 == 5) - True; not ((5 &gt; 4) or (3 == 5)) - Flase; (True and True) and (True == False) - Flase; (not False) or (not True) - True"
   ]
  },
  {
   "cell_type": "markdown",
   "id": "50b51fd2",
   "metadata": {},
   "source": [
    "5. What are the six comparison operators?"
   ]
  },
  {
   "cell_type": "markdown",
   "id": "f121bf34",
   "metadata": {},
   "source": [
    "Ans - A comparison operator compares two values and returns a boolean value, either True or False.\n",
    "Python has six comparison operators: less than (<), less than or equal to (<=), greater than (>), greater than or equal to (>=), equal to (==), and not equal to (!=)."
   ]
  },
  {
   "cell_type": "markdown",
   "id": "9deafce0",
   "metadata": {},
   "source": [
    "6. How do you tell the difference between the equal to and assignment operators?Describe a\n",
    "condition and when you would use one."
   ]
  },
  {
   "cell_type": "markdown",
   "id": "5e2006b6",
   "metadata": {},
   "source": [
    "Ans - The “=” is an assignment operator is used to assign the value on the right to the variable on the left.\n",
    "ex  - a=10 which will return the value 10.\n",
    "\n",
    "The ‘==’ operator checks whether the two given operands are equal or not. If so, it returns true. Otherwise it returns false.\n",
    "ex - 5==5\n",
    "\n",
    "This will return true."
   ]
  },
  {
   "cell_type": "code",
   "execution_count": 11,
   "id": "68566fd9",
   "metadata": {},
   "outputs": [],
   "source": [
    "7.#. Identify the three blocks in this code:\n",
    "#spam = 0\n",
    "#if spam == 10:\n",
    "#print('eggs')\n",
    "#if spam>5:\n",
    "#print('bacon')\n",
    "#else:\n",
    "#print('ham')\n",
    "#print('ham')\n",
    "#print('spam')"
   ]
  },
  {
   "cell_type": "code",
   "execution_count": 12,
   "id": "b2e7c530",
   "metadata": {},
   "outputs": [],
   "source": [
    "#Ans - \n",
    "#1st block               \n",
    "# if spam == 10:\n",
    "#     print('eggs')\n",
    "\n",
    "#2nd block\n",
    "# if spam > 5:\n",
    "#     print('bacon')\n",
    "\n",
    "#3rd block\n",
    "# else:\n",
    "#     print('ham')\n",
    "#     print('spam')\n",
    "#     print('spam')"
   ]
  },
  {
   "cell_type": "markdown",
   "id": "7fc866e3",
   "metadata": {},
   "source": [
    "8. Write code that prints Hello if 1 is stored in spam, prints Howdy if 2 is stored in spam, and prints\n",
    "Greetings! if anything else is stored in spam."
   ]
  },
  {
   "cell_type": "code",
   "execution_count": 17,
   "id": "c5def7f0",
   "metadata": {},
   "outputs": [
    {
     "name": "stdout",
     "output_type": "stream",
     "text": [
      "2\n",
      "Howdy\n"
     ]
    }
   ],
   "source": [
    "spam = int(input())\n",
    "\n",
    "if spam == 1:\n",
    "    print('Hello')\n",
    "elif spam == 2:\n",
    "    print('Howdy')\n",
    "else:\n",
    "    print('Greetings!')"
   ]
  },
  {
   "cell_type": "markdown",
   "id": "5e3ff1ac",
   "metadata": {},
   "source": [
    " 9.If your programme is stuck in an endless loop, what keys you’ll press?"
   ]
  },
  {
   "cell_type": "markdown",
   "id": "1039a056",
   "metadata": {},
   "source": [
    "Ans - We need to press Ctrl + C ."
   ]
  },
  {
   "cell_type": "markdown",
   "id": "0c71beab",
   "metadata": {},
   "source": [
    "10. How can you tell the difference between break and continue?"
   ]
  },
  {
   "cell_type": "markdown",
   "id": "74a8b8af",
   "metadata": {},
   "source": [
    "Ans - Break statements exist to exit or “break” a python for loop or while conditional loop. When the loop ends, the code picks up from and executes the next line immediately following the loop that was broken.\n",
    "\n",
    "The continue statement is used to skip code within a loop for certain iterations of the loop. After the code is skipped, the loop continues where it left off."
   ]
  },
  {
   "cell_type": "markdown",
   "id": "86f30cd9",
   "metadata": {},
   "source": [
    "11. In a for loop, what is the difference between range(10), range(0, 10), and range(0, 10, 1)?"
   ]
  },
  {
   "cell_type": "markdown",
   "id": "a736b084",
   "metadata": {},
   "source": [
    "Ans - All will give the same results.\n",
    "range(10) - here only stop is given.\n",
    "range(0, 10) - here start and stop point is given.\n",
    "range(0,10,1) - here start, step and step points are given"
   ]
  },
  {
   "cell_type": "markdown",
   "id": "65d5433f",
   "metadata": {},
   "source": [
    "12. Write a short program that prints the numbers 1 to 10 using a for loop. Then write an equivalent\n",
    "program that prints the numbers 1 to 10 using a while loop."
   ]
  },
  {
   "cell_type": "code",
   "execution_count": 36,
   "id": "302f5aaf",
   "metadata": {},
   "outputs": [
    {
     "name": "stdout",
     "output_type": "stream",
     "text": [
      "1\n",
      "2\n",
      "3\n",
      "4\n",
      "5\n",
      "6\n",
      "7\n",
      "8\n",
      "9\n",
      "10\n"
     ]
    }
   ],
   "source": [
    "for x in range(1,11):\n",
    "    print(x)"
   ]
  },
  {
   "cell_type": "code",
   "execution_count": 41,
   "id": "249c137e",
   "metadata": {},
   "outputs": [
    {
     "name": "stdout",
     "output_type": "stream",
     "text": [
      "1\n",
      "2\n",
      "3\n",
      "4\n",
      "5\n",
      "6\n",
      "7\n",
      "8\n",
      "9\n",
      "10\n"
     ]
    }
   ],
   "source": [
    "x = 1\n",
    "while x<=10:\n",
    "    print (x)\n",
    "    x = x+1"
   ]
  },
  {
   "cell_type": "markdown",
   "id": "63b59de6",
   "metadata": {},
   "source": [
    "13. If you had a function named bacon() inside a module named spam, how would you call it after\n",
    "importing spam?"
   ]
  },
  {
   "cell_type": "markdown",
   "id": "c7d39014",
   "metadata": {},
   "source": [
    "spam.bacon()"
   ]
  },
  {
   "cell_type": "code",
   "execution_count": null,
   "id": "7f9ac813",
   "metadata": {},
   "outputs": [],
   "source": []
  }
 ],
 "metadata": {
  "kernelspec": {
   "display_name": "Python 3",
   "language": "python",
   "name": "python3"
  },
  "language_info": {
   "codemirror_mode": {
    "name": "ipython",
    "version": 3
   },
   "file_extension": ".py",
   "mimetype": "text/x-python",
   "name": "python",
   "nbconvert_exporter": "python",
   "pygments_lexer": "ipython3",
   "version": "3.8.8"
  }
 },
 "nbformat": 4,
 "nbformat_minor": 5
}
