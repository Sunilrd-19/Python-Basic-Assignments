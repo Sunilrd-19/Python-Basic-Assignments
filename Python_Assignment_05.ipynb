{
 "cells": [
  {
   "cell_type": "markdown",
   "id": "6c0d885f",
   "metadata": {},
   "source": [
    "1. What does an empty dictionary&#39;s code look like?"
   ]
  },
  {
   "cell_type": "markdown",
   "id": "739f7ec7",
   "metadata": {},
   "source": [
    "Ans - {}"
   ]
  },
  {
   "cell_type": "markdown",
   "id": "7c8f5f43",
   "metadata": {},
   "source": [
    "2. What is the value of a dictionary value with the key &#39;foo&#39; and the value 42?"
   ]
  },
  {
   "cell_type": "markdown",
   "id": "e6749143",
   "metadata": {},
   "source": [
    "Ans - {'foo':42}"
   ]
  },
  {
   "cell_type": "markdown",
   "id": "2d2d2766",
   "metadata": {},
   "source": [
    "3. What is the most significant distinction between a dictionary and a list?"
   ]
  },
  {
   "cell_type": "markdown",
   "id": "0d965e56",
   "metadata": {},
   "source": [
    "Ans- A list is an ordered sequence of objects, whereas dictionaries are unordered sets. The dictionaries are accessed via keys and not via their position."
   ]
  },
  {
   "cell_type": "markdown",
   "id": "43e185fe",
   "metadata": {},
   "source": [
    "4. What happens if you try to access spam[&#39;foo&#39;] if spam is {&#39;bar&#39;: 100}?"
   ]
  },
  {
   "cell_type": "markdown",
   "id": "b307da2f",
   "metadata": {},
   "source": [
    "Ans - It returns the key error"
   ]
  },
  {
   "cell_type": "markdown",
   "id": "aeaab079",
   "metadata": {},
   "source": [
    "5. If a dictionary is stored in spam, what is the difference between the expressions &#39;cat&#39; in spam and\n",
    "&#39;cat&#39; in spam.keys()?"
   ]
  },
  {
   "cell_type": "markdown",
   "id": "007d1e51",
   "metadata": {},
   "source": [
    "Ans - There is no difference, both returns same. Both checks whether there is a key 'cat'  inside the dictionary."
   ]
  },
  {
   "cell_type": "markdown",
   "id": "bc23ac8a",
   "metadata": {},
   "source": [
    "6. If a dictionary is stored in spam, what is the difference between the expressions &#39;cat&#39; in spam and\n",
    "&#39;cat&#39; in spam.values()?"
   ]
  },
  {
   "cell_type": "markdown",
   "id": "8c2c7ad1",
   "metadata": {},
   "source": [
    "Ans - 'cat' in spam checks whether there is 'cat' key inside the dictionary while 'cat' in spam.values() check whether there is a value 'cat' inside the dictionary for one of the keys."
   ]
  },
  {
   "cell_type": "markdown",
   "id": "ad2bdacb",
   "metadata": {},
   "source": [
    "7. What is a shortcut for the following code?"
   ]
  },
  {
   "cell_type": "markdown",
   "id": "c84bbf52",
   "metadata": {},
   "source": [
    "if &#39;color&#39; not in spam:\n",
    "\n",
    "spam[&#39;color&#39;] = &#39;black&#39;"
   ]
  },
  {
   "cell_type": "markdown",
   "id": "643186ae",
   "metadata": {},
   "source": [
    "Ans - spam = {'color':'blue'}\n",
    "\n",
    "or\n",
    "\n",
    "spam.setdefault('color', 'black')"
   ]
  },
  {
   "cell_type": "markdown",
   "id": "25c472d7",
   "metadata": {},
   "source": [
    "8. How do you &quot;pretty print&quot; dictionary values using which module and function?"
   ]
  },
  {
   "cell_type": "markdown",
   "id": "a9ada992",
   "metadata": {},
   "source": [
    "Ans - pprint.pprint()"
   ]
  },
  {
   "cell_type": "code",
   "execution_count": null,
   "id": "caf6c518",
   "metadata": {},
   "outputs": [],
   "source": []
  }
 ],
 "metadata": {
  "kernelspec": {
   "display_name": "Python 3",
   "language": "python",
   "name": "python3"
  },
  "language_info": {
   "codemirror_mode": {
    "name": "ipython",
    "version": 3
   },
   "file_extension": ".py",
   "mimetype": "text/x-python",
   "name": "python",
   "nbconvert_exporter": "python",
   "pygments_lexer": "ipython3",
   "version": "3.8.8"
  }
 },
 "nbformat": 4,
 "nbformat_minor": 5
}
